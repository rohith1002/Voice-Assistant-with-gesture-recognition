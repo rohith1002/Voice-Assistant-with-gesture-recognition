{
 "cells": [
  {
   "cell_type": "code",
   "execution_count": 1,
   "metadata": {
    "scrolled": true
   },
   "outputs": [
    {
     "name": "stdout",
     "output_type": "stream",
     "text": [
      "importing Jupyter notebook from speak_google.ipynb\n",
      "importing Jupyter notebook from wiki.ipynb\n",
      "importing Jupyter notebook from search_meaning.ipynb\n",
      "importing Jupyter notebook from play_yt.ipynb\n",
      "rohith\n",
      "latest news\n"
     ]
    }
   ],
   "source": [
    "import speech_recognition as sr\n",
    "import pyaudio\n",
    "import pyttsx3 as p\n",
    "import import_ipynb\n",
    "from speak_google import*\n",
    "from wiki import *\n",
    "from search_meaning import *\n",
    "from play_yt import *\n",
    "import nltk\n",
    "import nltk.corpus\n",
    "from nltk.tokenize import word_tokenize\n",
    "from nltk.corpus import stopwords\n",
    "from nltk.corpus import wordnet\n",
    "import sys\n",
    "r = sr.Recognizer()\n",
    "engine = p.init()\n",
    "name=None\n",
    "command=None\n",
    "with sr.Microphone() as source:\n",
    "\n",
    "    r.adjust_for_ambient_noise(source)\n",
    "    engine.say('hey user please type your name')\n",
    "    engine.runAndWait()\n",
    "    name = input()\n",
    "    try:\n",
    "        engine.say('hello '+name+' how can i help you')\n",
    "        engine.runAndWait()\n",
    "\n",
    "        instruction = r.listen(source)\n",
    "        command=r.recognize_google(instruction)\n",
    "        print(command)\n",
    "        query_successful=0\n",
    "        end=[\"bye\",\"end\", \"close\",\"stop\",\"finish\"]\n",
    "        for i in end:\n",
    "            if i in command:\n",
    "                engine.say('thankyou'+name)\n",
    "                engine.runAndWait()\n",
    "                exit()\n",
    "        yt=['play','watch','run','listen','see']\n",
    "\n",
    "        if(query_successful==0):\n",
    "            for i in yt:\n",
    "                if i in command:\n",
    "                    a=play_yt()\n",
    "                    command=command.replace(i,\"\")\n",
    "                    a.get_info(command)\n",
    "                    query_successful=1\n",
    "\n",
    "        word_mean=['define','mean','meaning','what is','what do you mean by','tell me the meaning of ']\n",
    "        if(query_successful==0):\n",
    "            for i in word_mean:    \n",
    "                if i in command:\n",
    "                    command=command.replace(i,'')\n",
    "                    query_successful=1\n",
    "                    a=meaning()\n",
    "                    a.get_info(command)\n",
    "\n",
    "        wiki_word=\"\"\n",
    "        word_wiki=[\"who is\",\"who are\",\"who was\"]\n",
    "        if(query_successful==0):\n",
    "            for word,pos in nltk.pos_tag(nltk.word_tokenize(str(command))):\n",
    "                if (pos == 'NN' or pos == 'NNP' or pos == 'NNS' or pos == 'NNPS'):\n",
    "                    wiki_word=wiki_word+\" \"+word\n",
    "            for i in word_wiki:\n",
    "                if i in command :\n",
    "                    command=command.replace(i,'')\n",
    "                    a=info()\n",
    "                    a.get_info(command)\n",
    "                    query_successful=1\n",
    "\n",
    "        if(query_successful==0):\n",
    "            a=search_google()\n",
    "            a.get_info(command)  \n",
    "    except:        \n",
    "        engine=p.init()\n",
    "        engine.say('here are the results for the command')\n",
    "        engine.runAndWait()\n",
    "\n",
    "            \n",
    "        "
   ]
  },
  {
   "cell_type": "code",
   "execution_count": 7,
   "metadata": {},
   "outputs": [],
   "source": [
    "# r = sr.Recognizer()\n",
    "# engine = p.init()\n",
    "# name=None\n",
    "# while(1):\n",
    "#     with sr.Microphone() as source:\n",
    "#         r.adjust_for_ambient_noise(source)\n",
    "#         if name==None:\n",
    "#             engine.say('hey user please type your name')\n",
    "#             engine.runAndWait()\n",
    "#             name = input()\n",
    "#         else:\n",
    "            \n",
    "#             engine.say('hello '+name+' how can i help you')\n",
    "#             engine.runAndWait()\n",
    "            \n",
    "#             instruction = r.listen(source)\n",
    "#             command=r.recognize_google(instruction)\n",
    "            \n",
    "#             bot=similar()\n",
    "#             yt=bot.similarity('play')\n",
    "            \n",
    "#             for i in yt:\n",
    "#                 if i in command:\n",
    "#                     a=play_yt()\n",
    "#                     a.get_info(command)\n",
    "#             word_mean=bot.similarity('mean')\n",
    "#             for i in word_mean:    \n",
    "#                 if i in command:\n",
    "#                     a=meaning()\n",
    "#                     a.get_info(command)\n",
    "#             tokens=word_tokenize(command)\n",
    "#             tokens_without_sw = [word for word in tokens if not word in stopwords.words()]\n",
    "\n",
    "            \n",
    "\n",
    "#             b=[]\n",
    "#             for i in tokens_without_sw:\n",
    "#                 a=nltk.pos_tag([i])\n",
    "#                 for j in a:\n",
    "#                     b.append(list(j))\n",
    "        \n",
    "#             n=''\n",
    "#             for i in b:\n",
    "#                 #print(i)\n",
    "#                 if i[1]=='NN':\n",
    "#                     n=n+\" \"+i[0]\n",
    "#                 else:\n",
    "#                     n=0\n",
    "#                     break\n",
    "            \n",
    "#             if n==0:\n",
    "                \n",
    "#                 a=search_google()\n",
    "#                 a.get_info(command)\n",
    "#             if n!=0:\n",
    "#                 a=wiki()\n",
    "#                 a.get_info(n)\n",
    "#             if command =='bye':    \n",
    "#                 exit()\n",
    "   "
   ]
  },
  {
   "cell_type": "code",
   "execution_count": 2,
   "metadata": {},
   "outputs": [
    {
     "ename": "NameError",
     "evalue": "name 'engine' is not defined",
     "output_type": "error",
     "traceback": [
      "\u001b[1;31m---------------------------------------------------------------------------\u001b[0m",
      "\u001b[1;31mNameError\u001b[0m                                 Traceback (most recent call last)",
      "\u001b[1;32m<ipython-input-2-41d83c016864>\u001b[0m in \u001b[0;36m<module>\u001b[1;34m\u001b[0m\n\u001b[1;32m----> 1\u001b[1;33m \u001b[0mengine\u001b[0m\u001b[1;33m.\u001b[0m\u001b[0msetProperty\u001b[0m\u001b[1;33m(\u001b[0m\u001b[1;34m'rate'\u001b[0m\u001b[1;33m,\u001b[0m \u001b[1;36m150\u001b[0m\u001b[1;33m)\u001b[0m    \u001b[1;31m# Speed percent (can go over 100)\u001b[0m\u001b[1;33m\u001b[0m\u001b[1;33m\u001b[0m\u001b[0m\n\u001b[0m\u001b[0;32m      2\u001b[0m \u001b[0mengine\u001b[0m\u001b[1;33m.\u001b[0m\u001b[0msetProperty\u001b[0m\u001b[1;33m(\u001b[0m\u001b[1;34m'volume'\u001b[0m\u001b[1;33m,\u001b[0m \u001b[1;36m0.9\u001b[0m\u001b[1;33m)\u001b[0m  \u001b[1;31m# Volume 0-1\u001b[0m\u001b[1;33m\u001b[0m\u001b[1;33m\u001b[0m\u001b[0m\n\u001b[0;32m      3\u001b[0m \u001b[0mengine\u001b[0m\u001b[1;33m.\u001b[0m\u001b[0mgetProperty\u001b[0m\u001b[1;33m(\u001b[0m\u001b[1;34m'volume'\u001b[0m\u001b[1;33m)\u001b[0m\u001b[1;33m\u001b[0m\u001b[1;33m\u001b[0m\u001b[0m\n\u001b[0;32m      4\u001b[0m \u001b[0mvoices\u001b[0m \u001b[1;33m=\u001b[0m \u001b[0mengine\u001b[0m\u001b[1;33m.\u001b[0m\u001b[0mgetProperty\u001b[0m\u001b[1;33m(\u001b[0m\u001b[1;34m'voices'\u001b[0m\u001b[1;33m)\u001b[0m       \u001b[1;31m#getting details of current voice\u001b[0m\u001b[1;33m\u001b[0m\u001b[1;33m\u001b[0m\u001b[0m\n\u001b[0;32m      5\u001b[0m \u001b[1;31m#engine.setProperty('voice', voices[0].id)  #changing index, changes voices. o for male\u001b[0m\u001b[1;33m\u001b[0m\u001b[1;33m\u001b[0m\u001b[1;33m\u001b[0m\u001b[0m\n",
      "\u001b[1;31mNameError\u001b[0m: name 'engine' is not defined"
     ]
    }
   ],
   "source": [
    "\n",
    "engine.setProperty('rate', 150)    # Speed percent (can go over 100)\n",
    "engine.setProperty('volume', 0.9)  # Volume 0-1\n",
    "engine.getProperty('volume')\n",
    "voices = engine.getProperty('voices')       #getting details of current voice\n",
    "#engine.setProperty('voice', voices[0].id)  #changing index, changes voices. o for male\n",
    "engine.setProperty('voice', voices[1].id)   #changing index, changes voices. 1 for female\n",
    "\n",
    "engine.say('The quick brown fox jumped over the lazy dog.')\n",
    "engine.runAndWait()"
   ]
  },
  {
   "cell_type": "code",
   "execution_count": null,
   "metadata": {},
   "outputs": [],
   "source": [
    " try:\n",
    "        text=r.recognize_google(audio)\n",
    "        \n",
    "        engine.say('hello rohith how are you')\n",
    "        engine.runAndWait()\n",
    "    except sr.UnknownValueError:\n",
    "        print(\"Sphinx could not understand audio\")\n",
    "    except sr.RequestError as e:\n",
    "        print(\"Sphinx error; {0}\".format(e))"
   ]
  },
  {
   "cell_type": "code",
   "execution_count": null,
   "metadata": {},
   "outputs": [],
   "source": [
    "import sys"
   ]
  },
  {
   "cell_type": "code",
   "execution_count": null,
   "metadata": {},
   "outputs": [],
   "source": [
    "sys.path"
   ]
  },
  {
   "cell_type": "code",
   "execution_count": null,
   "metadata": {},
   "outputs": [],
   "source": [
    "r.instruction"
   ]
  },
  {
   "cell_type": "code",
   "execution_count": null,
   "metadata": {},
   "outputs": [],
   "source": [
    "tokens=word_tokenize('tell me about endgame')\n",
    "\n",
    "tokens=word_tokenize('tell me 5 about endgame')\n",
    "tokens_without_sw = [word for word in tokens if not word in stopwords.words()]\n",
    "\n",
    "b=[]\n",
    "for i in tokens_without_sw:\n",
    "    a=nltk.pos_tag([i])\n",
    "    for j in a:\n",
    "        b.append(list(j))\n",
    "            \n",
    "b\n",
    "n=''\n",
    "for i in b:\n",
    "    print(i)\n",
    "    if i[1]=='NN':\n",
    "        n=n+\" \"+i[0]\n",
    "    else:\n",
    "        n=0\n",
    "        break\n",
    "print(n)\n",
    "\n",
    "        "
   ]
  },
  {
   "cell_type": "code",
   "execution_count": null,
   "metadata": {},
   "outputs": [],
   "source": [
    "import nltk\n",
    "nltk.download('wordnet')"
   ]
  },
  {
   "cell_type": "code",
   "execution_count": null,
   "metadata": {},
   "outputs": [],
   "source": [
    "from nltk.corpus import wordnet   #Import wordnet from the NLTK\n",
    "synset = wordnet.synsets(\"worse\")\n",
    "print('Word and Type : ' + synset[0].name())\n",
    "print('Synonym of Travel is: ' + synset[0].lemmas()[0].name())\n",
    "print('The meaning of the word : ' + synset[0].definition())\n",
    "print('Example of Travel : ' + str(synset[0].examples()))"
   ]
  },
  {
   "cell_type": "code",
   "execution_count": null,
   "metadata": {},
   "outputs": [],
   "source": [
    "import nltk\n",
    "from nltk.corpus import wordnet   #Import wordnet from the NLTK\n",
    "syn = list()\n",
    "ant = list()\n",
    "for synset in wordnet.synsets(\"play\"):\n",
    "    for lemma in synset.lemmas():\n",
    "        syn.append(lemma.name())    #add the synonyms\n",
    "        if lemma.antonyms():    #When antonyms are available, add them into the list\n",
    "            ant.append(lemma.antonyms()[0].name())\n",
    "print('Synonyms: ' + str(syn))\n",
    "print('Antonyms: ' + str(ant))\n",
    "\n"
   ]
  },
  {
   "cell_type": "code",
   "execution_count": null,
   "metadata": {},
   "outputs": [],
   "source": [
    "import pyaudio"
   ]
  },
  {
   "cell_type": "code",
   "execution_count": null,
   "metadata": {},
   "outputs": [],
   "source": []
  }
 ],
 "metadata": {
  "kernelspec": {
   "display_name": "Python 3",
   "language": "python",
   "name": "python3"
  },
  "language_info": {
   "codemirror_mode": {
    "name": "ipython",
    "version": 3
   },
   "file_extension": ".py",
   "mimetype": "text/x-python",
   "name": "python",
   "nbconvert_exporter": "python",
   "pygments_lexer": "ipython3",
   "version": "3.7.6"
  }
 },
 "nbformat": 4,
 "nbformat_minor": 4
}
