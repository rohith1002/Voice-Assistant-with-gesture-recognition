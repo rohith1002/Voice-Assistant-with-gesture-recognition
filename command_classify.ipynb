{
 "cells": [
  {
   "cell_type": "code",
   "execution_count": 129,
   "metadata": {
    "id": "NP84yNq81OVz",
    "outputId": "cf6c3072-21a0-46a5-9092-15d66fb45d6c"
   },
   "outputs": [],
   "source": [
    "import pandas as pd \n",
    "import re\n",
    "import string\n",
    "from sklearn.model_selection import train_test_split\n",
    "from sklearn.feature_extraction.text import TfidfVectorizer\n",
    "from sklearn.linear_model import LogisticRegression\n",
    "from sklearn.pipeline import Pipeline\n",
    "\n",
    "class command_classify():\n",
    "    def __init__(self):\n",
    "        pass\n",
    "    def text_clean_1(self,text):\n",
    "        text = text.lower()\n",
    "        text = re.sub('\\[.*?\\]', '', text)\n",
    "        text = re.sub('[%s]' % re.escape(string.punctuation), '', text)\n",
    "        text = re.sub('\\w*\\d\\w*', '', text)\n",
    "        return text\n",
    "\n",
    "\n",
    "\n",
    "    def text_clean_2(self,text):\n",
    "        text = re.sub('[‘’“”…]', '', text)\n",
    "        text = re.sub('\\n', '', text)\n",
    "        return text\n",
    "    def command(self,x):\n",
    "        Reviewdata = pd.read_csv(r'D:\\datasets\\voice_nlp.csv')\n",
    "\n",
    "\n",
    "        cleaned1 = lambda x: text_clean_1(x)\n",
    "\n",
    "        Reviewdata['cleaned_description'] = pd.DataFrame(Reviewdata.Description.apply(cleaned1))\n",
    "\n",
    "\n",
    "        cleaned2 = lambda x: text_clean_2(x)\n",
    "\n",
    "\n",
    "        Reviewdata['cleaned_description_new'] = pd.DataFrame(Reviewdata['cleaned_description'].apply(cleaned2))\n",
    "\n",
    "\n",
    "\n",
    "\n",
    "\n",
    "        Independent_var = Reviewdata.cleaned_description_new\n",
    "        Dependent_var = Reviewdata.Is_Response\n",
    "\n",
    "        IV_train, IV_test, DV_train, DV_test = train_test_split(Independent_var, Dependent_var, test_size = 0.3, random_state = 225)\n",
    "\n",
    "\n",
    "\n",
    "        tvec = TfidfVectorizer()\n",
    "        clf2 = LogisticRegression(solver = \"lbfgs\")\n",
    "\n",
    "\n",
    "\n",
    "\n",
    "        model = Pipeline([('vectorizer',tvec),('classifier',clf2)])\n",
    "        model.fit(IV_train, DV_train)\n",
    "\n",
    "\n",
    "        example = [x]\n",
    "        result = model.predict(example)\n",
    "        return result\n",
    "\n",
    "\n"
   ]
  },
  {
   "cell_type": "code",
   "execution_count": 130,
   "metadata": {
    "id": "c9wA4CyC1OVz"
   },
   "outputs": [
    {
     "data": {
      "text/plain": [
       "array([3], dtype=int64)"
      ]
     },
     "execution_count": 130,
     "metadata": {},
     "output_type": "execute_result"
    }
   ],
   "source": []
  },
  {
   "cell_type": "code",
   "execution_count": null,
   "metadata": {},
   "outputs": [],
   "source": []
  }
 ],
 "metadata": {
  "colab": {
   "name": "Hotel review sentiment analysis.ipynb",
   "provenance": []
  },
  "kernelspec": {
   "display_name": "Python 3",
   "language": "python",
   "name": "python3"
  },
  "language_info": {
   "codemirror_mode": {
    "name": "ipython",
    "version": 3
   },
   "file_extension": ".py",
   "mimetype": "text/x-python",
   "name": "python",
   "nbconvert_exporter": "python",
   "pygments_lexer": "ipython3",
   "version": "3.7.6"
  }
 },
 "nbformat": 4,
 "nbformat_minor": 1
}
