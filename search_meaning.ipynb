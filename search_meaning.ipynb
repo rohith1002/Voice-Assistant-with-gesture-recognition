{
 "cells": [
  {
   "cell_type": "code",
   "execution_count": 2,
   "metadata": {
    "scrolled": true
   },
   "outputs": [],
   "source": [
    "from selenium import webdriver\n",
    "from selenium.webdriver.common.action_chains import ActionChains\n",
    "import pyttsx3 as p\n",
    "class meaning():\n",
    "    def __init__(self):\n",
    "        self.driver=webdriver.Chrome(executable_path=r'D:/hack/chromedriver.exe')\n",
    "    def get_info(self,query):\n",
    "        self.query=query\n",
    "        self.driver.get(url=\"https://www.wikipedia.org/\")\n",
    "        try:\n",
    "            #search=self.driver.find_element_by_xpath('//*[@id=\"tsf\"]/div[2]/div[1]/div[1]/div/div[2]/input')\n",
    "            search=self.driver.find_element_by_xpath('//*[@id=\"searchInput\"]')\n",
    "            search.click()\n",
    "\n",
    "            search.send_keys(query)\n",
    "            enter=self.driver.find_element_by_xpath('//*[@id=\"search-form\"]/fieldset/button')\n",
    "            enter.click()\n",
    "\n",
    "\n",
    "            info=self.driver.find_element_by_xpath('//*[@id=\"mw-content-text\"]/div[1]/p[2]')\n",
    "            readable_text=info.text\n",
    "            print(readable_text)\n",
    "            engine=p.init()\n",
    "            engine.say(readable_text)\n",
    "            engine.runAndWait()\n",
    "        except:\n",
    "            engine=p.init()\n",
    "            engine.say(\"read the page\")\n",
    "            engine.runAndWait()\n",
    "            \n"
   ]
  },
  {
   "cell_type": "code",
   "execution_count": null,
   "metadata": {},
   "outputs": [],
   "source": [
    "\n",
    "        \n",
    "        "
   ]
  },
  {
   "cell_type": "code",
   "execution_count": null,
   "metadata": {},
   "outputs": [],
   "source": []
  }
 ],
 "metadata": {
  "kernelspec": {
   "display_name": "Python 3",
   "language": "python",
   "name": "python3"
  },
  "language_info": {
   "codemirror_mode": {
    "name": "ipython",
    "version": 3
   },
   "file_extension": ".py",
   "mimetype": "text/x-python",
   "name": "python",
   "nbconvert_exporter": "python",
   "pygments_lexer": "ipython3",
   "version": "3.7.6"
  }
 },
 "nbformat": 4,
 "nbformat_minor": 4
}
